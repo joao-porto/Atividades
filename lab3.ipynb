{
 "cells": [
  {
   "cell_type": "markdown",
   "metadata": {},
   "source": [
    "# Lab 3: Funções"
   ]
  },
  {
   "cell_type": "markdown",
   "metadata": {},
   "source": [
    "## Overview\n",
    "\n",
    "Desenvolva familiaridade com a leitura e escrita de funções do Python com diferentes tipos de parâmetros, explore algumas nuances da semântica de execução de funções e mergulhe fundo nos detalhes mais internos das funções.\n",
    "\n",
    "*Disclaimer: sabemos que este laboratório está particularmente focado na semântica do Python, o que pode não parecer interessante no começo. No entanto, dominar a mecânica das funções do Python oferece acesso a muitas ferramentas poderosas que não existem ou são incomuns ou difíceis de usar em outras linguagens! As habilidades que você aprende através deste laboratório permitirão que você escreva (e depure) um poderoso código Python de forma rápida e fácil!*\n",
    "\n",
    "**Como no Laboratório 2, não esperamos que você termine todo o material aqui em um período de aula. Se você fizer isso - ótimo! Mas se não, você é encorajado a trabalhar com o material extra no seu próprio ritmo - explorar aspectos interessantes e intrigantes das funções do Python.**"
   ]
  },
  {
   "cell_type": "markdown",
   "metadata": {},
   "source": [
    "## Revisão\n",
    "\n",
    "Como sempre, reserve um momento para ler os slides desta semana no [site do curso](https://stanfordpython.com/#lecture). Em particular, preste atenção à visão geral das melhores práticas de estilo do Python."
   ]
  },
  {
   "cell_type": "markdown",
   "metadata": {},
   "source": [
    "## Explorando Argumentos e Parâmetros\n",
    "\n",
    "Com um parceiro, resolva os problemas a seguir."
   ]
  },
  {
   "cell_type": "markdown",
   "metadata": {},
   "source": [
    "Considere a seguinte definição de função:\n",
    "\n",
    "```Python\n",
    "def print_two(a, b):\n",
    "    print(\"Arguments: {0} and {1}\".format(a, b))\n",
    "```\n",
    "Para cada uma das seguintes chamadas de função, preveja se a chamada é válida ou não. Se for válido, qual será o resultado? Se for inválido, qual é a causa do erro?\n",
    "\n",
    "*Nota: faça suas previsões **antes de** executar o código de forma interativa. Então verifique você mesmo!*\n",
    "\n",
    "\n",
    "```Python\n",
    "# Valid or invalid?\n",
    "print_two()\n",
    "print_two(4, 1)\n",
    "print_two(41)\n",
    "print_two(a=4, 1)\n",
    "print_two(4, a=1)\n",
    "print_two(4, 1, 1)\n",
    "print_two(b=4, 1)\n",
    "print_two(a=4, b=1)\n",
    "print_two(b=1, a=4)\n",
    "print_two(1, a=1)\n",
    "print_two(4, 1, b=1)\n"
   ]
  },
  {
   "cell_type": "code",
   "execution_count": 13,
   "metadata": {},
   "outputs": [
    {
     "name": "stdout",
     "output_type": "stream",
     "text": [
      "Arguments: 4 and 1\n",
      "--------------\n",
      "Arguments: 4 and 1\n",
      "--------------\n",
      "Arguments: 4 and 1\n",
      "--------------\n",
      "Arguments: 4 and 1\n",
      "--------------\n",
      "Arguments: 4 and 1\n",
      "--------------\n",
      "Arguments: 4 and 1\n",
      "--------------\n"
     ]
    }
   ],
   "source": [
    "# Before running me, predict which of these calls will be invalid and which will be valid!\n",
    "# For valid calls, what is the output?\n",
    "# For invalid calls, why is it invalid?\n",
    "def print_two(a, b):\n",
    "    print(\"Arguments: {0} and {1}\".format(a, b))\n",
    "    print(\"--------------\")\n",
    "# Uncomment the ones you want to run!\n",
    "#print_two() Nao é valido\n",
    "print_two(4, 1) # ok Argumento Valido\n",
    "#print_two(41) nao é valido\n",
    "#print_two(a=4, 1) nao é valido\n",
    "#print_two(4, a=1) nao é valido\n",
    "#print_two(4, 1, 1) nao é valido\n",
    "#print_two(b=4, 1) nao é valido\n",
    "print_two(a=4, b=1) # ok Argumento Valido\n",
    "print_two(b=1, a=4) # OK Argumento Valido\n",
    "#print_two(1, a=1) nao é valido\n",
    "#print_two(4, 1, b=1) nao é valido"
   ]
  },
  {
   "cell_type": "markdown",
   "metadata": {},
   "source": [
    "# para ser valido tem que respeitar a regra dos argumentos, sendo assim temos casos que não respeitou a regra. Ex. faltando  argumento posicional, repetição de argumentos,"
   ]
  },
  {
   "cell_type": "markdown",
   "metadata": {},
   "source": [
    "Escreva pelo menos mais duas instâncias de chamadas de função, não listadas acima, e preveja sua saída. São válidos ou inválidos? Verifique sua hipótese.\n",
    "\n",
    "* Estes problemas \"escreva-um-pouco-mais\" são sua chance de esclarecer sua própria compreensão da semântica de chamada de função. Você pode pulá-los se quiser, mas usar o interpretador interativo para testar suas próprias hipóteses é uma habilidade crucial do Python que permite responder perguntas do tipo \"Mas o que acontece se eu ...\" *"
   ]
  },
  {
   "cell_type": "code",
   "execution_count": 14,
   "metadata": {},
   "outputs": [
    {
     "name": "stdout",
     "output_type": "stream",
     "text": [
      "Arguments: 5.0 and 10\n",
      "--------------\n",
      "Arguments: 15 and 7\n",
      "--------------\n",
      "Arguments: 5.0 and 10\n",
      "--------------\n",
      "Arguments: 15 and 7\n",
      "--------------\n"
     ]
    }
   ],
   "source": [
    "# Write two more function calls.\n",
    "print_two(a=10/2, b=5*2)\n",
    "print_two(a=10+5, b=5+2)"
   ]
  },
  {
   "cell_type": "markdown",
   "metadata": {},
   "source": [
    "### Argumentos Padrão\n",
    "\n",
    "Considere a seguinte definição de função:\n",
    "\n",
    "```Python\n",
    "def keyword_args(a, b=1, c='X', d=None):\n",
    "    print(\"a:\", a)\n",
    "    print(\"b:\", b)\n",
    "    print(\"c:\", c)\n",
    "    print(\"d:\", d)\n",
    "```\n",
    "\n",
    "Para cada uma das seguintes chamadas de função, preveja se a chamada é válida ou não. Se for válido, qual será o resultado? Se for inválido, qual é a causa do erro?\n",
    "\n",
    "```Python\n",
    "keyword_args(5)\n",
    "keyword_args(a=5)\n",
    "keyword_args(5, 8)\n",
    "keyword_args(5, 2, c=4)\n",
    "keyword_args(5, 0, 1)\n",
    "keyword_args(5, 2, d=8, c=4)\n",
    "keyword_args(5, 2, 0, 1, \"\")\n",
    "keyword_args(c=7, 1)\n",
    "keyword_args(c=7, a=1)\n",
    "keyword_args(5, 2, [], 5)\n",
    "keyword_args(1, 7, e=6)\n",
    "keyword_args(1, c=7)\n",
    "keyword_args(5, 2, b=4)\n",
    "```"
   ]
  },
  {
   "cell_type": "code",
   "execution_count": 21,
   "metadata": {},
   "outputs": [
    {
     "name": "stdout",
     "output_type": "stream",
     "text": [
      "a: 5\n",
      "b: 1\n",
      "c: X\n",
      "d: None\n",
      "----------\n",
      "a: 5\n",
      "b: 1\n",
      "c: X\n",
      "d: None\n",
      "----------\n",
      "a: 5\n",
      "b: 8\n",
      "c: X\n",
      "d: None\n",
      "----------\n",
      "a: 5\n",
      "b: 2\n",
      "c: 4\n",
      "d: None\n",
      "----------\n",
      "a: 5\n",
      "b: 0\n",
      "c: 1\n",
      "d: None\n",
      "----------\n",
      "a: 5\n",
      "b: 2\n",
      "c: 4\n",
      "d: 8\n",
      "----------\n",
      "a: 1\n",
      "b: 1\n",
      "c: 7\n",
      "d: None\n",
      "----------\n",
      "a: 5\n",
      "b: 2\n",
      "c: []\n",
      "d: 5\n",
      "----------\n",
      "a: 1\n",
      "b: 1\n",
      "c: 7\n",
      "d: None\n",
      "----------\n",
      "a: 5\n",
      "b: 1\n",
      "c: X\n",
      "d: None\n",
      "----------\n",
      "a: 5\n",
      "b: 1\n",
      "c: X\n",
      "d: None\n",
      "----------\n",
      "a: 5\n",
      "b: 8\n",
      "c: X\n",
      "d: None\n",
      "----------\n",
      "a: 5\n",
      "b: 2\n",
      "c: 4\n",
      "d: None\n",
      "----------\n",
      "a: 5\n",
      "b: 0\n",
      "c: 1\n",
      "d: None\n",
      "----------\n",
      "a: 5\n",
      "b: 2\n",
      "c: 4\n",
      "d: 8\n",
      "----------\n",
      "a: 1\n",
      "b: 1\n",
      "c: 7\n",
      "d: None\n",
      "----------\n",
      "a: 5\n",
      "b: 2\n",
      "c: []\n",
      "d: 5\n",
      "----------\n",
      "a: 1\n",
      "b: 1\n",
      "c: 7\n",
      "d: None\n",
      "----------\n"
     ]
    }
   ],
   "source": [
    "# Before running me, predict which of these calls will be invalid and which will be valid!\n",
    "# For valid calls, what is the output?\n",
    "# For invalid calls, why is it invalid?\n",
    "def keyword_args(a, b=1, c='X', d=None):\n",
    "    print(\"a:\", a)\n",
    "    print(\"b:\", b)\n",
    "    print(\"c:\", c)\n",
    "    print(\"d:\", d)\n",
    "    print(\"----------\")\n",
    "# Uncomment the ones you want to run!\n",
    "keyword_args(5) #ok Valido\n",
    "keyword_args(a=5) #ok Valido\n",
    "keyword_args(5, 8) # ok Valido\n",
    "keyword_args(5, 2, c=4) # ok Valido\n",
    "keyword_args(5, 0, 1) # ok Valido\n",
    "keyword_args(5, 2, d=8, c=4) #ok Valido\n",
    "#keyword_args(5, 2, 0, 1, \"\") #Nao é valido\n",
    "#keyword_args(c=7, 1) #Nao é valido\n",
    "keyword_args(c=7, a=1) #ok é valido ** porque o \"a\" náo tem valor padrao\n",
    "keyword_args(5, 2, [], 5) #ok Valido\n",
    "#keyword_args(1, 7, e=6) #nao é valido\n",
    "keyword_args(1, c=7) #ok é valido\n",
    "#keyword_args(5, 2, b=4) # nao é valido"
   ]
  },
  {
   "cell_type": "markdown",
   "metadata": {},
   "source": [
    "# para ser valido tem que respeitar a regra dos argumentos, sendo assim temos casos que não respeitou a regra. Ex. faltando  argumento posicional, repetição de argumentos,"
   ]
  },
  {
   "cell_type": "markdown",
   "metadata": {},
   "source": [
    "Escreva pelo menos mais duas instâncias de chamadas de função, não listadas acima, e preveja sua saída. São válidos ou inválidos? Verifique sua hipótese."
   ]
  },
  {
   "cell_type": "code",
   "execution_count": 22,
   "metadata": {},
   "outputs": [
    {
     "name": "stdout",
     "output_type": "stream",
     "text": [
      "a: 1\n",
      "b: 4\n",
      "c: 9\n",
      "d: 16\n",
      "----------\n",
      "a: 10\n",
      "b: 2.0\n",
      "c: 9\n",
      "d: 4\n",
      "----------\n",
      "a: 1\n",
      "b: 4\n",
      "c: 9\n",
      "d: 16\n",
      "----------\n",
      "a: 10\n",
      "b: 2.0\n",
      "c: 9\n",
      "d: 4\n",
      "----------\n"
     ]
    }
   ],
   "source": [
    "# Write two more function calls.\n",
    "keyword_args(1*1, 2*2, 3*3, 4*4)\n",
    "keyword_args(d=2*2, c=3*3, b=4/2, a=5+5 )"
   ]
  },
  {
   "cell_type": "markdown",
   "metadata": {},
   "source": [
    "### Explorando listas de argumentos Variádicos\n",
    "\n",
    "Como antes, considere a seguinte definição de função:\n",
    "\n",
    "```Python\n",
    "def variadic(*args, **kwargs):\n",
    "    print(\"Positional:\", args)\n",
    "    print(\"Keyword:\", kwargs)\n",
    "```\n",
    "\n",
    "Para cada uma das seguintes chamadas de função, preveja se a chamada é válida ou não. Se for válido, qual será o resultado? Se for inválido, qual é a causa do erro?\n",
    "\n",
    "```Python\n",
    "variadic(2, 3, 5, 7)\n",
    "variadic(1, 1, n=1)\n",
    "variadic(n=1, 2, 3)\n",
    "variadic()\n",
    "variadic(cs=\"Computer Science\", pd=\"Product Design\")\n",
    "variadic(cs=\"Computer Science\", cs=\"CompSci\", cs=\"CS\")\n",
    "variadic(5, 8, k=1, swap=2)\n",
    "variadic(8, *[3, 4, 5], k=1, **{'a':5, 'b':'x'})\n",
    "variadic(*[8, 3], *[4, 5], k=1, **{'a':5, 'b':'x'})\n",
    "variadic(*[3, 4, 5], 8, *(4, 1), k=1, **{'a':5, 'b':'x'})\n",
    "variadic({'a':5, 'b':'x'}, *{'a':5, 'b':'x'}, **{'a':5, 'b':'x'})\n",
    "```"
   ]
  },
  {
   "cell_type": "code",
   "execution_count": 23,
   "metadata": {},
   "outputs": [
    {
     "name": "stdout",
     "output_type": "stream",
     "text": [
      "Positional: (2, 3, 5, 7)\n",
      "Keyword: {}\n",
      "------------------------------------------ \n",
      "Positional: (1, 1)\n",
      "Keyword: {'n': 1}\n",
      "------------------------------------------ \n",
      "Positional: ()\n",
      "Keyword: {}\n",
      "------------------------------------------ \n",
      "Positional: (5, 8)\n",
      "Keyword: {'k': 1, 'swap': 2}\n",
      "------------------------------------------ \n",
      "Positional: (8, 3, 4, 5)\n",
      "Keyword: {'k': 1, 'a': 5, 'b': 'x'}\n",
      "------------------------------------------ \n",
      "Positional: (8, 3, 4, 5)\n",
      "Keyword: {'k': 1, 'a': 5, 'b': 'x'}\n",
      "------------------------------------------ \n",
      "Positional: (3, 4, 5, 8, 4, 1)\n",
      "Keyword: {'k': 1, 'a': 5, 'b': 'x'}\n",
      "------------------------------------------ \n",
      "Positional: ({'a': 5, 'b': 'x'}, 'a', 'b')\n",
      "Keyword: {'a': 5, 'b': 'x'}\n",
      "------------------------------------------ \n",
      "Positional: (2, 3, 5, 7)\n",
      "Keyword: {}\n",
      "------------------------------------------ \n",
      "Positional: (1, 1)\n",
      "Keyword: {'n': 1}\n",
      "------------------------------------------ \n",
      "Positional: ()\n",
      "Keyword: {}\n",
      "------------------------------------------ \n",
      "Positional: (5, 8)\n",
      "Keyword: {'k': 1, 'swap': 2}\n",
      "------------------------------------------ \n",
      "Positional: (8, 3, 4, 5)\n",
      "Keyword: {'k': 1, 'a': 5, 'b': 'x'}\n",
      "------------------------------------------ \n",
      "Positional: (8, 3, 4, 5)\n",
      "Keyword: {'k': 1, 'a': 5, 'b': 'x'}\n",
      "------------------------------------------ \n",
      "Positional: (3, 4, 5, 8, 4, 1)\n",
      "Keyword: {'k': 1, 'a': 5, 'b': 'x'}\n",
      "------------------------------------------ \n",
      "Positional: ({'a': 5, 'b': 'x'}, 'a', 'b')\n",
      "Keyword: {'a': 5, 'b': 'x'}\n",
      "------------------------------------------ \n"
     ]
    }
   ],
   "source": [
    "# Before running me, predict which of these calls will be invalid and which will be valid!\n",
    "# For valid calls, what is the output?\n",
    "# For invalid calls, why is it invalid?\n",
    "def variadic(*args, **kwargs):\n",
    "    print(\"Positional:\", args)\n",
    "    print(\"Keyword:\", kwargs)\n",
    "    print(\"------------------------------------------ \")\n",
    "\n",
    "# Uncomment the ones you want to run!\n",
    "variadic(2, 3, 5, 7)\n",
    "variadic(1, 1, n=1)\n",
    "#variadic(n=1, 2, 3) #nao é valido\n",
    "variadic()\n",
    "#variadic(cs=\"Computer Science\", pd=\"Product Design\")\n",
    "#variadic(cs=\"Computer Science\", cs=\"CompSci\", cs=\"CS\") # nao é valido\n",
    "variadic(5, 8, k=1, swap=2)\n",
    "variadic(8, *[3, 4, 5], k=1, **{'a':5, 'b':'x'})\n",
    "variadic(*[8, 3], *[4, 5], k=1, **{'a':5, 'b':'x'})\n",
    "variadic(*[3, 4, 5], 8, *(4, 1), k=1, **{'a':5, 'b':'x'})\n",
    "variadic({'a':5, 'b':'x'}, *{'a':5, 'b':'x'}, **{'a':5, 'b':'x'})"
   ]
  },
  {
   "cell_type": "markdown",
   "metadata": {},
   "source": [
    "# para ser valido tem que respeitar a regra dos argumentos, sendo assim temos casos que não respeitou a regra, Ex. faltando  argumento posicional, repetição de argumentos,"
   ]
  },
  {
   "cell_type": "markdown",
   "metadata": {},
   "source": [
    "Escreva pelo menos mais duas instâncias de chamadas de função, não listadas acima, e preveja sua saída. São válidos ou inválidos? Verifique sua hipótese."
   ]
  },
  {
   "cell_type": "code",
   "execution_count": 24,
   "metadata": {},
   "outputs": [],
   "source": [
    "# Write two more function calls.\n",
    "# variadic(...)\n",
    "# variadic(...)"
   ]
  },
  {
   "cell_type": "markdown",
   "metadata": {},
   "source": [
    "### *Opcional: Juntando tudo*\n",
    "\n",
    "*Se você se sentir confiante de que entende como funciona a chamada de função, você pode pular esta seção. Sugerimos que você trabalhe através dela, se quiser mais prática, mas a decisão final é sua.*\n",
    "\n",
    "Muitas vezes, no entanto, não vemos apenas argumentos de palavras-chave de listas de parâmetros variadicos em situações isoladas. A seguinte definição de função, que incorpora parâmetros posicionais, parâmetros de palavra-chave, parâmetros posicionais variádicos, parâmetros padrão somente de palavra-chave e parâmetros de palavras-chave variádicos, é um código Python válido.\n",
    "\n",
    "```Python\n",
    "def all_together(x, y, z=1, *nums, indent=True, spaces=4, **options):\n",
    "    print(\"x:\", x)\n",
    "    print(\"y:\", y)\n",
    "    print(\"z:\", z)\n",
    "    print(\"nums:\", nums)\n",
    "    print(\"indent:\", indent)\n",
    "    print(\"spaces:\", spaces)\n",
    "    print(\"options:\", options)\n",
    "```\n",
    "\n",
    "Para cada uma das seguintes chamadas de função, preveja se a chamada é válida ou não. Se for válido, qual será o resultado? Se for inválido, qual é a causa do erro?\n",
    "\n",
    "```Python\n",
    "all_together(2)\n",
    "all_together(2, 5, 7, 8, indent=False)\n",
    "all_together(2, 5, 7, 6, indent=None)\n",
    "all_together()\n",
    "all_together(indent=True, 3, 4, 5)\n",
    "all_together(**{'indent': False}, scope='maximum')\n",
    "all_together(dict(x=0, y=1), *range(10))\n",
    "all_together(**dict(x=0, y=1), *range(10))\n",
    "all_together(*range(10), **dict(x=0, y=1))\n",
    "all_together([1, 2], {3:4})\n",
    "all_together(8, 9, 10, *[2, 4, 6], x=7, spaces=0, **{'a':5, 'b':'x'})\n",
    "all_together(8, 9, 10, *[2, 4, 6], spaces=0, **{'a':[4,5], 'b':'x'})\n",
    "all_together(8, 9, *[2, 4, 6], *dict(z=1), spaces=0, **{'a':[4,5], 'b':'x'})\n",
    "```"
   ]
  },
  {
   "cell_type": "code",
   "execution_count": 25,
   "metadata": {
    "scrolled": true
   },
   "outputs": [
    {
     "name": "stdout",
     "output_type": "stream",
     "text": [
      "x: 2\n",
      "y: 5\n",
      "z: 7\n",
      "nums: (8,)\n",
      "indent: False\n",
      "spaces: 4\n",
      "options: {}\n",
      "--------------------------------\n",
      "x: 2\n",
      "y: 5\n",
      "z: 7\n",
      "nums: (6,)\n",
      "indent: None\n",
      "spaces: 4\n",
      "options: {}\n",
      "--------------------------------\n",
      "x: {'x': 0, 'y': 1}\n",
      "y: 0\n",
      "z: 1\n",
      "nums: (2, 3, 4, 5, 6, 7, 8, 9)\n",
      "indent: True\n",
      "spaces: 4\n",
      "options: {}\n",
      "--------------------------------\n",
      "x: [1, 2]\n",
      "y: {3: 4}\n",
      "z: 1\n",
      "nums: ()\n",
      "indent: True\n",
      "spaces: 4\n",
      "options: {}\n",
      "--------------------------------\n",
      "x: 8\n",
      "y: 9\n",
      "z: 10\n",
      "nums: (2, 4, 6)\n",
      "indent: True\n",
      "spaces: 0\n",
      "options: {'a': [4, 5], 'b': 'x'}\n",
      "--------------------------------\n",
      "x: 8\n",
      "y: 9\n",
      "z: 2\n",
      "nums: (4, 6, 'z')\n",
      "indent: True\n",
      "spaces: 0\n",
      "options: {'a': [4, 5], 'b': 'x'}\n",
      "--------------------------------\n",
      "x: 2\n",
      "y: 5\n",
      "z: 7\n",
      "nums: (8,)\n",
      "indent: False\n",
      "spaces: 4\n",
      "options: {}\n",
      "--------------------------------\n",
      "x: 2\n",
      "y: 5\n",
      "z: 7\n",
      "nums: (6,)\n",
      "indent: None\n",
      "spaces: 4\n",
      "options: {}\n",
      "--------------------------------\n",
      "x: {'x': 0, 'y': 1}\n",
      "y: 0\n",
      "z: 1\n",
      "nums: (2, 3, 4, 5, 6, 7, 8, 9)\n",
      "indent: True\n",
      "spaces: 4\n",
      "options: {}\n",
      "--------------------------------\n",
      "x: [1, 2]\n",
      "y: {3: 4}\n",
      "z: 1\n",
      "nums: ()\n",
      "indent: True\n",
      "spaces: 4\n",
      "options: {}\n",
      "--------------------------------\n",
      "x: 8\n",
      "y: 9\n",
      "z: 10\n",
      "nums: (2, 4, 6)\n",
      "indent: True\n",
      "spaces: 0\n",
      "options: {'a': [4, 5], 'b': 'x'}\n",
      "--------------------------------\n",
      "x: 8\n",
      "y: 9\n",
      "z: 2\n",
      "nums: (4, 6, 'z')\n",
      "indent: True\n",
      "spaces: 0\n",
      "options: {'a': [4, 5], 'b': 'x'}\n",
      "--------------------------------\n"
     ]
    }
   ],
   "source": [
    "# Before running me, predict which of these calls will be invalid and which will be valid!\n",
    "# For valid calls, what is the output?\n",
    "# For invalid calls, why is it invalid?\n",
    "def all_together(x, y, z=1, *nums, indent=True, spaces=4, **options):\n",
    "    print(\"x:\", x)\n",
    "    print(\"y:\", y)\n",
    "    print(\"z:\", z)\n",
    "    print(\"nums:\", nums)\n",
    "    print(\"indent:\", indent)\n",
    "    print(\"spaces:\", spaces)\n",
    "    print(\"options:\", options)\n",
    "    print(\"--------------------------------\")\n",
    "# Uncomment the ones you want to run!\n",
    "#all_together(2) #nao é valido\n",
    "all_together(2, 5, 7, 8, indent=False)\n",
    "all_together(2, 5, 7, 6, indent=None)\n",
    "#all_together() #nao é valido\n",
    "#all_together(indent=True, 3, 4, 5) #Nao é valido\n",
    "#all_together(**{'indent': False}, scope='maximum') #nao é valido\n",
    "all_together(dict(x=0, y=1), *range(10)) #ok é valido ****\n",
    "#all_together(**dict(x=0, y=1), *range(10) #nao é valido\n",
    "#all_together(*range(10), **dict(x=0, y=1))#nao é valido\n",
    "all_together([1, 2], {3:4})\n",
    "#all_together(8, 9, 10, *[2, 4, 6], x=7, spaces=0, **{'a':5, 'b':'x'})#nao é valido\n",
    "all_together(8, 9, 10, *[2, 4, 6], spaces=0, **{'a':[4,5], 'b':'x'})\n",
    "all_together(8, 9, *[2, 4, 6], *dict(z=1), spaces=0, **{'a':[4,5], 'b':'x'})"
   ]
  },
  {
   "cell_type": "markdown",
   "metadata": {},
   "source": [
    "# para ser valido tem que respeitar a regra dos argumentos, sendo assim temos casos que não respeitou a regra, Ex. faltando  argumento posicional, repetição de argumentos, posisionamento errado de argumentos."
   ]
  },
  {
   "cell_type": "markdown",
   "metadata": {},
   "source": [
    "Escreva pelo menos mais duas instâncias de chamadas de função, não listadas acima, e preveja sua saída. São válidos ou inválidos? Verifique sua hipótese."
   ]
  },
  {
   "cell_type": "code",
   "execution_count": 26,
   "metadata": {},
   "outputs": [
    {
     "name": "stdout",
     "output_type": "stream",
     "text": [
      "x: [5.0, 4.0]\n",
      "y: {10: 20}\n",
      "z: 1\n",
      "nums: ()\n",
      "indent: True\n",
      "spaces: 4\n",
      "options: {}\n",
      "--------------------------------\n",
      "x: 0\n",
      "y: 1\n",
      "z: 2\n",
      "nums: (3, 4, 5, 6, 7, 8, 9)\n",
      "indent: None\n",
      "spaces: 0\n",
      "options: {'a': [10, 20], 'J': 'P'}\n",
      "--------------------------------\n",
      "x: [5.0, 4.0]\n",
      "y: {10: 20}\n",
      "z: 1\n",
      "nums: ()\n",
      "indent: True\n",
      "spaces: 4\n",
      "options: {}\n",
      "--------------------------------\n",
      "x: 0\n",
      "y: 1\n",
      "z: 2\n",
      "nums: (3, 4, 5, 6, 7, 8, 9)\n",
      "indent: None\n",
      "spaces: 0\n",
      "options: {'a': [10, 20], 'J': 'P'}\n",
      "--------------------------------\n"
     ]
    }
   ],
   "source": [
    "# Write two more function calls.\n",
    "all_together([25/5, (2*8)/4], {10:20})\n",
    "all_together(*range(10), indent=None, spaces=0, **{'a':[10,20], 'J':'P'})"
   ]
  },
  {
   "cell_type": "markdown",
   "metadata": {},
   "source": [
    "## Escrevendo Funções"
   ]
  },
  {
   "cell_type": "markdown",
   "metadata": {},
   "source": [
    "### `speak_excitedly`\n",
    "\n",
    "Escreva uma função `speak_excitedly` que aceita um argumento posicional obrigatório (uma mensagem) e dois argumentos opcionais de palavra-chave, o primeiro dos quais é um inteiro positivo referindo-se ao número de pontos de exclamação para colocar no final da mensagem (padrão `1`), e o segundo dos quais é um sinalizador booleano indicando se deve ou não capitalizar a mensagem (padrão `False`).\n",
    "\n",
    "Como seria a assinatura e a implementação da função para essa função?"
   ]
  },
  {
   "cell_type": "code",
   "execution_count": 27,
   "metadata": {},
   "outputs": [],
   "source": [
    "def speak_excitedly(msg, Nexclamacao=1, Ent=False):\n",
    "    msg += '!' * Nexclamacao\n",
    "    \n",
    "    if not Ent:\n",
    "        return msg\n",
    "    return msg.upper()"
   ]
  },
  {
   "cell_type": "markdown",
   "metadata": {},
   "source": [
    "Como você chamaria essa função para produzir as seguintes saídas?\n",
    "\n",
    "```Python\n",
    "\"I love Python!\"\n",
    "\"Keyword arguments are great!!!!\"\n",
    "\"I guess Java is okay...\"\n",
    "\"LET'S GO STANFORD!!\"\n",
    "```"
   ]
  },
  {
   "cell_type": "code",
   "execution_count": 28,
   "metadata": {},
   "outputs": [
    {
     "name": "stdout",
     "output_type": "stream",
     "text": [
      "I love Python!\n",
      "Keyword arguments are great!!!!\n",
      "I guess Java is okay...\n",
      "LET'S GO STANFORD!!\n",
      "I love Python!\n",
      "Keyword arguments are great!!!!\n",
      "I guess Java is okay...\n",
      "LET'S GO STANFORD!!\n"
     ]
    }
   ],
   "source": [
    "print(speak_excitedly(\"I love Python\"))\n",
    "print(speak_excitedly(\"Keyword arguments are great\", Nexclamacao=4))\n",
    "print(speak_excitedly(\"I guess Java is okay...\", Nexclamacao=0))\n",
    "print(speak_excitedly(\"Let's go Stanford\", Nexclamacao=2, Ent=True))"
   ]
  },
  {
   "cell_type": "markdown",
   "metadata": {},
   "source": [
    "### `average`\n",
    "\n",
    "Escreva uma função `average` que aceita um número variável de argumentos posicionais inteiros e calcula a média. Se nenhum argumento for fornecido, a função deve retornar `None`.\n",
    "\n",
    "Como seria a assinatura e a implementação para essa função?"
   ]
  },
  {
   "cell_type": "code",
   "execution_count": 29,
   "metadata": {},
   "outputs": [],
   "source": [
    "def average(*xnumeros):\n",
    "    if not xnumeros:  \n",
    "        return None\n",
    "    return sum(xnumeros) / len(xnumeros)"
   ]
  },
  {
   "cell_type": "markdown",
   "metadata": {},
   "source": [
    "Deve ser possível chamar a função da seguinte maneira:\n",
    "\n",
    "```Python\n",
    "average()  # => None\n",
    "average(5)  # => 5.0\n",
    "average(6, 8, 9, 11)  # => 8.5\n",
    "```"
   ]
  },
  {
   "cell_type": "code",
   "execution_count": 30,
   "metadata": {},
   "outputs": [
    {
     "name": "stdout",
     "output_type": "stream",
     "text": [
      "None\n",
      "5.0\n",
      "8.5\n",
      "None\n",
      "5.0\n",
      "8.5\n"
     ]
    }
   ],
   "source": [
    "print(average())  # => None\n",
    "print(average(5))  # => 5.0\n",
    "print(average(6, 8, 9, 11))  # => 8.5"
   ]
  },
  {
   "cell_type": "markdown",
   "metadata": {},
   "source": [
    "Suponha que tenhamos uma lista `l = [???]` fornecida pelo usuário (ou algum arquivo!) de conteúdo desconhecido. Como podemos usar a função `average` que acabamos de escrever para calcular a média dessa lista? Para esta parte do problema, não use as funções builtin `sum` ou` len` - tente descompactar o conteúdo de `l` em` average`."
   ]
  },
  {
   "cell_type": "code",
   "execution_count": 31,
   "metadata": {},
   "outputs": [
    {
     "name": "stdout",
     "output_type": "stream",
     "text": [
      "13199.0\n",
      "13199.0\n"
     ]
    }
   ],
   "source": [
    "l = [3, 1, 41, 592, 65358]  # or any other user-defined input.\n",
    "media = average(*l)\n",
    "print(average(media))"
   ]
  },
  {
   "cell_type": "markdown",
   "metadata": {},
   "source": [
    "### Desafio: `make_table`\n",
    "\n",
    "Escreva uma função para criar uma tabela a partir de um número arbitrário de argumentos de palavras-chave. Por exemplo,\n",
    "\n",
    "```Python\n",
    "make_table(\n",
    "    first_name=\"Sam\",\n",
    "    last_name=\"Redmond\",\n",
    "    shirt_color=\"pink\"\n",
    ")\n",
    "```\n",
    "\n",
    "deve produzir\n",
    "\n",
    "```\n",
    "=========================\n",
    "| first_name  |     Sam |\n",
    "| last_name   | Redmond |\n",
    "| shirt_color |    pink |\n",
    "=========================\n",
    "```\n",
    "\n",
    "Adicionalmente, deve haver dois parâmetros, `key_justify` e` value_justify`, cujos valores padrão são `'left'` e`'right'` respectivamente. Esses argumentos de palavra-chave controlarão o alinhamento de texto para chaves e valores na tabela. Opções válidas para estes parâmetros são `['left', 'right', 'center']`. Deve haver um espaço extra de preenchimento em ambos os lados das chaves e valores. Como outro exemplo,\n",
    "\n",
    "```Python\n",
    "make_table(\n",
    "    key_justify=\"right\",\n",
    "    value_justify=\"center\",\n",
    "    song=\"Style\",\n",
    "    artist_fullname=\"Taylor $wift\",\n",
    "    album=\"1989\"\n",
    ")\n",
    "```\n",
    "\n",
    "deve produzir\n",
    "\n",
    "```\n",
    "==================================\n",
    "|            song |     Style    |\n",
    "| artist_fullname | Taylor $wift |\n",
    "|           album |     1989     |\n",
    "==================================\n",
    "```\n",
    "\n",
    "Como seria a assinatura e a implementação para essa função?\n",
    "\n",
    "```\n",
    "def make_table(???):\n",
    "    pass\n",
    "```\n",
    "\n",
    "Dica: você pode achar útil os [especificadores de alinhamento](https://pyformat.info/#string_pad_align) do método `.format()`."
   ]
  },
  {
   "cell_type": "code",
   "execution_count": 32,
   "metadata": {},
   "outputs": [
    {
     "ename": "SyntaxError",
     "evalue": "invalid syntax (<ipython-input-32-5ed91594b584>, line 1)",
     "output_type": "error",
     "traceback": [
      "\u001b[1;36m  File \u001b[1;32m\"<ipython-input-32-5ed91594b584>\"\u001b[1;36m, line \u001b[1;32m1\u001b[0m\n\u001b[1;33m    def make_table(???):\u001b[0m\n\u001b[1;37m                   ^\u001b[0m\n\u001b[1;31mSyntaxError\u001b[0m\u001b[1;31m:\u001b[0m invalid syntax\n"
     ]
    },
    {
     "ename": "SyntaxError",
     "evalue": "invalid syntax (<ipython-input-32-5ed91594b584>, line 1)",
     "output_type": "error",
     "traceback": [
      "\u001b[1;36m  File \u001b[1;32m\"<ipython-input-32-5ed91594b584>\"\u001b[1;36m, line \u001b[1;32m1\u001b[0m\n\u001b[1;33m    def make_table(???):\u001b[0m\n\u001b[1;37m                   ^\u001b[0m\n\u001b[1;31mSyntaxError\u001b[0m\u001b[1;31m:\u001b[0m invalid syntax\n"
     ]
    }
   ],
   "source": [
    "def make_table(???):\n",
    "    pass"
   ]
  },
  {
   "cell_type": "markdown",
   "metadata": {},
   "source": [
    "## Nuances das Funçôes"
   ]
  },
  {
   "cell_type": "markdown",
   "metadata": {},
   "source": [
    "### Retorno\n",
    "\n",
    "Preveja a saída do seguinte trecho de código. Em seguida, execute o código para verificar sua hipótese.\n",
    "\n",
    "```Python\n",
    "def say_hello():\n",
    "    print(\"Hello!\")\n",
    "\n",
    "print(say_hello())  # => ?\n",
    "\n",
    "def echo(arg=None):\n",
    "    print(\"arg:\", arg)\n",
    "    return arg\n",
    "\n",
    "print(echo())  # => ?\n",
    "print(echo(5)) # => ?\n",
    "print(echo(\"Hello\")) # => ?\n",
    "\n",
    "def drive(has_car):\n",
    "    if not has_car:\n",
    "        # Please never actually signal an error like this...\n",
    "        return \"Oh no!\"\n",
    "    return 100  # miles\n",
    "\n",
    "print(drive(False))  # => ?\n",
    "print(drive(True))   # => ?\n",
    "```\n",
    "\n",
    "Se você fez alguma previsão incorreta, fale com um parceiro sobre o porquê!"
   ]
  },
  {
   "cell_type": "code",
   "execution_count": 33,
   "metadata": {},
   "outputs": [
    {
     "name": "stdout",
     "output_type": "stream",
     "text": [
      "Hello!\n",
      "None\n",
      "arg: None\n",
      "None\n",
      "arg: 5\n",
      "5\n",
      "arg: Hello\n",
      "Hello\n",
      "Oh no!\n",
      "100\n",
      "Hello!\n",
      "None\n",
      "arg: None\n",
      "None\n",
      "arg: 5\n",
      "5\n",
      "arg: Hello\n",
      "Hello\n",
      "Oh no!\n",
      "100\n"
     ]
    }
   ],
   "source": [
    "def say_hello():\n",
    "    print(\"Hello!\")\n",
    "\n",
    "print(say_hello())  # => ?\n",
    "\n",
    "def echo(arg=None):\n",
    "    print(\"arg:\", arg)\n",
    "    return arg\n",
    "\n",
    "print(echo())  # => ?\n",
    "print(echo(5)) # => ?\n",
    "print(echo(\"Hello\")) # => ?\n",
    "\n",
    "def drive(has_car):\n",
    "    if not has_car:\n",
    "        # Please never actually signal an error like this...\n",
    "        return \"Oh no!\"\n",
    "    return 100  # miles\n",
    "\n",
    "print(drive(False))  # => ?\n",
    "print(drive(True))   # => ?"
   ]
  },
  {
   "cell_type": "markdown",
   "metadata": {},
   "source": [
    "# no codigo do echo eu não tinha compreendido como seria a saida, no meu entimento daria erro, mas após execultar percebi que o codigo estava certo"
   ]
  },
  {
   "cell_type": "code",
   "execution_count": 34,
   "metadata": {},
   "outputs": [
    {
     "name": "stdout",
     "output_type": "stream",
     "text": [
      "Before reassign: arr=[4]\n",
      "Inside reassign: arr = [4, 1]\n",
      "After reassign: arr=[4]\n",
      "Before append_one: arr=[4]\n",
      "Inside append_one: arr = [4, 1]\n",
      "After append_one: arr=[4, 1]\n",
      "Before reassign: arr=[4]\n",
      "Inside reassign: arr = [4, 1]\n",
      "After reassign: arr=[4]\n",
      "Before append_one: arr=[4]\n",
      "Inside append_one: arr = [4, 1]\n",
      "After append_one: arr=[4, 1]\n"
     ]
    }
   ],
   "source": [
    "### Parâmetros e referência de objetos\n",
    "\n",
    "#Leitura Opcional: [Jeff Knupp's Blog](https://jeffknupp.com/blog/2012/11/13/is-python-callbyvalue-or-callbyreference-neither/)*\n",
    "\n",
    "#Suponha que tenhamos as duas funções a seguir:\n",
    "\n",
    "#Python\n",
    "def reassign(arr):\n",
    "    arr = [4, 1]\n",
    "    print(\"Inside reassign: arr = {}\".format(arr))\n",
    "\n",
    "def append_one(arr):\n",
    "    arr.append(1) \n",
    "    print(\"Inside append_one: arr = {}\".format(arr))\n",
    "#\n",
    "\n",
    "#Preveja qual será o seguinte trecho de código. Qual a diferença entre as seções? Qual é a causa dessa diferença?\n",
    "\n",
    "#Python\n",
    "l = [4]\n",
    "print(\"Before reassign: arr={}\".format(l))  # => ?\n",
    "reassign(l)\n",
    "print(\"After reassign: arr={}\".format(l))  # => ?\n",
    "\n",
    "l = [4]\n",
    "print(\"Before append_one: arr={}\".format(l))  # => ?\n",
    "append_one(l)\n",
    "print(\"After append_one: arr={}\".format(l))  # => ?\n",
    "\n",
    "#primeiro parece que não altere o valor de L quando o variavel recebe outro numero\n",
    "# o segundo já faz alteração, pois estamos fazendo um append "
   ]
  },
  {
   "cell_type": "code",
   "execution_count": 35,
   "metadata": {},
   "outputs": [
    {
     "name": "stdout",
     "output_type": "stream",
     "text": [
      "Before reassign: arr=[4]\n",
      "Inside reassign: arr = [4, 1]\n",
      "After reassign: arr=[4]\n",
      "Before append_one: arr=[4]\n",
      "Inside append_one: arr = [4, 1]\n",
      "After append_one: arr=[4, 1]\n",
      "Before reassign: arr=[4]\n",
      "Inside reassign: arr = [4, 1]\n",
      "After reassign: arr=[4]\n",
      "Before append_one: arr=[4]\n",
      "Inside append_one: arr = [4, 1]\n",
      "After append_one: arr=[4, 1]\n"
     ]
    }
   ],
   "source": [
    "def reassign(arr):\n",
    "    arr = [4, 1]\n",
    "    print(\"Inside reassign: arr = {}\".format(arr))\n",
    "\n",
    "def append_one(arr):\n",
    "    arr.append(1) \n",
    "    print(\"Inside append_one: arr = {}\".format(arr))\n",
    "    \n",
    "l = [4]\n",
    "print(\"Before reassign: arr={}\".format(l))  # => ?\n",
    "reassign(l)\n",
    "print(\"After reassign: arr={}\".format(l))  # => ?\n",
    "\n",
    "l = [4]\n",
    "print(\"Before append_one: arr={}\".format(l))  # => ?\n",
    "append_one(l)\n",
    "print(\"After append_one: arr={}\".format(l))  # => ?"
   ]
  },
  {
   "cell_type": "markdown",
   "metadata": {},
   "source": [
    "### Escopo\n",
    "*Leitura Opcional: [Python's Execution Model](https://docs.python.org/3/reference/executionmodel.html), especialmente Seção 4.2.2.*\n",
    "\n",
    "Preveja a saída dos próximos dois programas em Python e, em seguida, execute-os para confirmar ou refutar sua hipótese.\n",
    "\n",
    "```Python\n",
    "# Case 1\n",
    "x = 10\n",
    "\n",
    "def foo():\n",
    "    print(\"(inside foo) x:\", x)\n",
    "    y = 5\n",
    "    print('value:', x * y)\n",
    "\n",
    "print(\"(outside foo) x:\", x)\n",
    "foo()\n",
    "print(\"(after foo) x:\", x)\n",
    "```\n",
    "\n",
    "e\n",
    "\n",
    "```Python\n",
    "# Case 2\n",
    "x = 10\n",
    "\n",
    "def foo():\n",
    "    x = 8  # Only added this line - everything else is the same\n",
    "    print(\"(inside foo) x:\", x)\n",
    "    y = 5\n",
    "    print('value:', x * y)\n",
    "\n",
    "print(\"(outside foo) x:\", x)\n",
    "foo()\n",
    "print(\"(after foo) x:\", x)\n",
    "```\n",
    "\n",
    "Desenhe uma figura das ligações de variáveis em cada escopo (escopo global e escopo de nível de função `foo`) em cada caso."
   ]
  },
  {
   "cell_type": "code",
   "execution_count": 36,
   "metadata": {},
   "outputs": [
    {
     "name": "stdout",
     "output_type": "stream",
     "text": [
      "(outside foo) x: 10\n",
      "(inside foo) x: 10\n",
      "value: 50\n",
      "(after foo) x: 10\n",
      "(outside foo) x: 10\n",
      "(inside foo) x: 10\n",
      "value: 50\n",
      "(after foo) x: 10\n"
     ]
    }
   ],
   "source": [
    "# Case 1\n",
    "x = 10\n",
    "\n",
    "def foo():\n",
    "    print(\"(inside foo) x:\", x)\n",
    "    y = 5\n",
    "    print('value:', x * y)\n",
    "\n",
    "print(\"(outside foo) x:\", x)\n",
    "foo()\n",
    "print(\"(after foo) x:\", x)"
   ]
  },
  {
   "cell_type": "code",
   "execution_count": 37,
   "metadata": {},
   "outputs": [
    {
     "name": "stdout",
     "output_type": "stream",
     "text": [
      "(outside foo) x: 10\n",
      "(inside foo) x: 8\n",
      "value: 40\n",
      "(after foo) x: 10\n",
      "(outside foo) x: 10\n",
      "(inside foo) x: 8\n",
      "value: 40\n",
      "(after foo) x: 10\n"
     ]
    }
   ],
   "source": [
    "# Case 2\n",
    "x = 10\n",
    "\n",
    "def foo():\n",
    "    x = 8  # Only added this line - everything else is the same\n",
    "    print(\"(inside foo) x:\", x)\n",
    "    y = 5\n",
    "    print('value:', x * y)\n",
    "\n",
    "print(\"(outside foo) x:\", x)\n",
    "foo()\n",
    "print(\"(after foo) x:\", x)"
   ]
  },
  {
   "cell_type": "markdown",
   "metadata": {},
   "source": [
    "#### UnboundLocalError\n",
    "\n",
    "Se trocarmos apenas duas linhas de código, algo incomum acontece. Qual é o erro? Por que isso poderia estar acontecendo?\n",
    "\n",
    "```Python\n",
    "x = 10\n",
    "\n",
    "def foo():\n",
    "    print(\"(inside foo) x:\", x)  # We swapped this line\n",
    "    x = 8                        # with this one\n",
    "    y = 5\n",
    "    print('value:', x * y)\n",
    "\n",
    "print(\"(outside foo) x:\", x)\n",
    "foo()\n",
    "print(\"(after foo) x:\", x)\n",
    "```"
   ]
  },
  {
   "cell_type": "markdown",
   "metadata": {},
   "source": [
    "Similarmente, `foo` como definido em\n",
    "\n",
    "```\n",
    "lst = [1,2,3]\n",
    "def foo():\n",
    "    lst.append(4)\n",
    "foo()\n",
    "```\n",
    "\n",
    "irá compilar (isto é, o objeto da função será compilado por byte sem problema), mas\n",
    "\n",
    "```\n",
    "lst = [1,2,3]\n",
    "def foo():\n",
    "    lst = lst + [4]\n",
    "foo()\n",
    "```\n",
    "\n",
    "vai gerar um `UnboundLocalError`. Por quê? Não, surpreendentemente, tem a ver com o fato de que `.append` ser \"in place\" e `+` não ser."
   ]
  },
  {
   "cell_type": "code",
   "execution_count": 38,
   "metadata": {},
   "outputs": [],
   "source": [
    "# This works\n",
    "lst = [1,2,3]\n",
    "def foo():\n",
    "    lst.append(4)\n",
    "foo()"
   ]
  },
  {
   "cell_type": "code",
   "execution_count": 39,
   "metadata": {},
   "outputs": [
    {
     "ename": "UnboundLocalError",
     "evalue": "local variable 'lst' referenced before assignment",
     "output_type": "error",
     "traceback": [
      "\u001b[1;31m---------------------------------------------------------------------------\u001b[0m",
      "\u001b[1;31mUnboundLocalError\u001b[0m                         Traceback (most recent call last)",
      "\u001b[1;32m<ipython-input-39-6694f5363179>\u001b[0m in \u001b[0;36m<module>\u001b[1;34m\u001b[0m\n\u001b[0;32m      3\u001b[0m \u001b[1;32mdef\u001b[0m \u001b[0mfoo\u001b[0m\u001b[1;33m(\u001b[0m\u001b[1;33m)\u001b[0m\u001b[1;33m:\u001b[0m\u001b[1;33m\u001b[0m\u001b[1;33m\u001b[0m\u001b[0m\n\u001b[0;32m      4\u001b[0m     \u001b[0mlst\u001b[0m \u001b[1;33m=\u001b[0m \u001b[0mlst\u001b[0m \u001b[1;33m+\u001b[0m \u001b[1;33m[\u001b[0m\u001b[1;36m4\u001b[0m\u001b[1;33m]\u001b[0m\u001b[1;33m\u001b[0m\u001b[1;33m\u001b[0m\u001b[0m\n\u001b[1;32m----> 5\u001b[1;33m \u001b[0mfoo\u001b[0m\u001b[1;33m(\u001b[0m\u001b[1;33m)\u001b[0m\u001b[1;33m\u001b[0m\u001b[1;33m\u001b[0m\u001b[0m\n\u001b[0m",
      "\u001b[1;32m<ipython-input-39-6694f5363179>\u001b[0m in \u001b[0;36mfoo\u001b[1;34m()\u001b[0m\n\u001b[0;32m      2\u001b[0m \u001b[0mlst\u001b[0m \u001b[1;33m=\u001b[0m \u001b[1;33m[\u001b[0m\u001b[1;36m1\u001b[0m\u001b[1;33m,\u001b[0m\u001b[1;36m2\u001b[0m\u001b[1;33m,\u001b[0m\u001b[1;36m3\u001b[0m\u001b[1;33m]\u001b[0m\u001b[1;33m\u001b[0m\u001b[1;33m\u001b[0m\u001b[0m\n\u001b[0;32m      3\u001b[0m \u001b[1;32mdef\u001b[0m \u001b[0mfoo\u001b[0m\u001b[1;33m(\u001b[0m\u001b[1;33m)\u001b[0m\u001b[1;33m:\u001b[0m\u001b[1;33m\u001b[0m\u001b[1;33m\u001b[0m\u001b[0m\n\u001b[1;32m----> 4\u001b[1;33m     \u001b[0mlst\u001b[0m \u001b[1;33m=\u001b[0m \u001b[0mlst\u001b[0m \u001b[1;33m+\u001b[0m \u001b[1;33m[\u001b[0m\u001b[1;36m4\u001b[0m\u001b[1;33m]\u001b[0m\u001b[1;33m\u001b[0m\u001b[1;33m\u001b[0m\u001b[0m\n\u001b[0m\u001b[0;32m      5\u001b[0m \u001b[0mfoo\u001b[0m\u001b[1;33m(\u001b[0m\u001b[1;33m)\u001b[0m\u001b[1;33m\u001b[0m\u001b[1;33m\u001b[0m\u001b[0m\n",
      "\u001b[1;31mUnboundLocalError\u001b[0m: local variable 'lst' referenced before assignment"
     ]
    },
    {
     "ename": "UnboundLocalError",
     "evalue": "local variable 'lst' referenced before assignment",
     "output_type": "error",
     "traceback": [
      "\u001b[1;31m---------------------------------------------------------------------------\u001b[0m",
      "\u001b[1;31mUnboundLocalError\u001b[0m                         Traceback (most recent call last)",
      "\u001b[1;32m<ipython-input-39-6694f5363179>\u001b[0m in \u001b[0;36m<module>\u001b[1;34m\u001b[0m\n\u001b[0;32m      3\u001b[0m \u001b[1;32mdef\u001b[0m \u001b[0mfoo\u001b[0m\u001b[1;33m(\u001b[0m\u001b[1;33m)\u001b[0m\u001b[1;33m:\u001b[0m\u001b[1;33m\u001b[0m\u001b[1;33m\u001b[0m\u001b[0m\n\u001b[0;32m      4\u001b[0m     \u001b[0mlst\u001b[0m \u001b[1;33m=\u001b[0m \u001b[0mlst\u001b[0m \u001b[1;33m+\u001b[0m \u001b[1;33m[\u001b[0m\u001b[1;36m4\u001b[0m\u001b[1;33m]\u001b[0m\u001b[1;33m\u001b[0m\u001b[1;33m\u001b[0m\u001b[0m\n\u001b[1;32m----> 5\u001b[1;33m \u001b[0mfoo\u001b[0m\u001b[1;33m(\u001b[0m\u001b[1;33m)\u001b[0m\u001b[1;33m\u001b[0m\u001b[1;33m\u001b[0m\u001b[0m\n\u001b[0m",
      "\u001b[1;32m<ipython-input-39-6694f5363179>\u001b[0m in \u001b[0;36mfoo\u001b[1;34m()\u001b[0m\n\u001b[0;32m      2\u001b[0m \u001b[0mlst\u001b[0m \u001b[1;33m=\u001b[0m \u001b[1;33m[\u001b[0m\u001b[1;36m1\u001b[0m\u001b[1;33m,\u001b[0m\u001b[1;36m2\u001b[0m\u001b[1;33m,\u001b[0m\u001b[1;36m3\u001b[0m\u001b[1;33m]\u001b[0m\u001b[1;33m\u001b[0m\u001b[1;33m\u001b[0m\u001b[0m\n\u001b[0;32m      3\u001b[0m \u001b[1;32mdef\u001b[0m \u001b[0mfoo\u001b[0m\u001b[1;33m(\u001b[0m\u001b[1;33m)\u001b[0m\u001b[1;33m:\u001b[0m\u001b[1;33m\u001b[0m\u001b[1;33m\u001b[0m\u001b[0m\n\u001b[1;32m----> 4\u001b[1;33m     \u001b[0mlst\u001b[0m \u001b[1;33m=\u001b[0m \u001b[0mlst\u001b[0m \u001b[1;33m+\u001b[0m \u001b[1;33m[\u001b[0m\u001b[1;36m4\u001b[0m\u001b[1;33m]\u001b[0m\u001b[1;33m\u001b[0m\u001b[1;33m\u001b[0m\u001b[0m\n\u001b[0m\u001b[0;32m      5\u001b[0m \u001b[0mfoo\u001b[0m\u001b[1;33m(\u001b[0m\u001b[1;33m)\u001b[0m\u001b[1;33m\u001b[0m\u001b[1;33m\u001b[0m\u001b[0m\n",
      "\u001b[1;31mUnboundLocalError\u001b[0m: local variable 'lst' referenced before assignment"
     ]
    }
   ],
   "source": [
    "# This doesn't\n",
    "lst = [1,2,3]\n",
    "def foo():\n",
    "    lst = lst + [4]\n",
    "foo()"
   ]
  },
  {
   "cell_type": "code",
   "execution_count": 40,
   "metadata": {},
   "outputs": [
    {
     "name": "stdout",
     "output_type": "stream",
     "text": [
      "(outside foo) x: 10\n"
     ]
    },
    {
     "ename": "UnboundLocalError",
     "evalue": "local variable 'x' referenced before assignment",
     "output_type": "error",
     "traceback": [
      "\u001b[1;31m---------------------------------------------------------------------------\u001b[0m",
      "\u001b[1;31mUnboundLocalError\u001b[0m                         Traceback (most recent call last)",
      "\u001b[1;32m<ipython-input-40-511039b9a307>\u001b[0m in \u001b[0;36m<module>\u001b[1;34m\u001b[0m\n\u001b[0;32m      6\u001b[0m     \u001b[0mprint\u001b[0m\u001b[1;33m(\u001b[0m\u001b[1;34m'value:'\u001b[0m\u001b[1;33m,\u001b[0m \u001b[0mx\u001b[0m \u001b[1;33m*\u001b[0m \u001b[0my\u001b[0m\u001b[1;33m)\u001b[0m\u001b[1;33m\u001b[0m\u001b[1;33m\u001b[0m\u001b[0m\n\u001b[0;32m      7\u001b[0m \u001b[0mprint\u001b[0m\u001b[1;33m(\u001b[0m\u001b[1;34m\"(outside foo) x:\"\u001b[0m\u001b[1;33m,\u001b[0m \u001b[0mx\u001b[0m\u001b[1;33m)\u001b[0m\u001b[1;33m\u001b[0m\u001b[1;33m\u001b[0m\u001b[0m\n\u001b[1;32m----> 8\u001b[1;33m \u001b[0mfoo\u001b[0m\u001b[1;33m(\u001b[0m\u001b[1;33m)\u001b[0m\u001b[1;33m\u001b[0m\u001b[1;33m\u001b[0m\u001b[0m\n\u001b[0m\u001b[0;32m      9\u001b[0m \u001b[0mprint\u001b[0m\u001b[1;33m(\u001b[0m\u001b[1;34m\"(after foo) x:\"\u001b[0m\u001b[1;33m,\u001b[0m \u001b[0mx\u001b[0m\u001b[1;33m)\u001b[0m\u001b[1;33m\u001b[0m\u001b[1;33m\u001b[0m\u001b[0m\n",
      "\u001b[1;32m<ipython-input-40-511039b9a307>\u001b[0m in \u001b[0;36mfoo\u001b[1;34m()\u001b[0m\n\u001b[0;32m      1\u001b[0m \u001b[0mx\u001b[0m \u001b[1;33m=\u001b[0m \u001b[1;36m10\u001b[0m\u001b[1;33m\u001b[0m\u001b[1;33m\u001b[0m\u001b[0m\n\u001b[0;32m      2\u001b[0m \u001b[1;32mdef\u001b[0m \u001b[0mfoo\u001b[0m\u001b[1;33m(\u001b[0m\u001b[1;33m)\u001b[0m\u001b[1;33m:\u001b[0m\u001b[1;33m\u001b[0m\u001b[1;33m\u001b[0m\u001b[0m\n\u001b[1;32m----> 3\u001b[1;33m     \u001b[0mprint\u001b[0m\u001b[1;33m(\u001b[0m\u001b[1;34m\"(inside foo) x:\"\u001b[0m\u001b[1;33m,\u001b[0m \u001b[0mx\u001b[0m\u001b[1;33m)\u001b[0m\u001b[1;33m\u001b[0m\u001b[1;33m\u001b[0m\u001b[0m\n\u001b[0m\u001b[0;32m      4\u001b[0m     \u001b[0mx\u001b[0m \u001b[1;33m=\u001b[0m \u001b[1;36m8\u001b[0m\u001b[1;33m\u001b[0m\u001b[1;33m\u001b[0m\u001b[0m\n\u001b[0;32m      5\u001b[0m     \u001b[0my\u001b[0m \u001b[1;33m=\u001b[0m \u001b[1;36m5\u001b[0m\u001b[1;33m\u001b[0m\u001b[1;33m\u001b[0m\u001b[0m\n",
      "\u001b[1;31mUnboundLocalError\u001b[0m: local variable 'x' referenced before assignment"
     ]
    },
    {
     "name": "stdout",
     "output_type": "stream",
     "text": [
      "(outside foo) x: 10\n"
     ]
    },
    {
     "ename": "UnboundLocalError",
     "evalue": "local variable 'x' referenced before assignment",
     "output_type": "error",
     "traceback": [
      "\u001b[1;31m---------------------------------------------------------------------------\u001b[0m",
      "\u001b[1;31mUnboundLocalError\u001b[0m                         Traceback (most recent call last)",
      "\u001b[1;32m<ipython-input-40-511039b9a307>\u001b[0m in \u001b[0;36m<module>\u001b[1;34m\u001b[0m\n\u001b[0;32m      6\u001b[0m     \u001b[0mprint\u001b[0m\u001b[1;33m(\u001b[0m\u001b[1;34m'value:'\u001b[0m\u001b[1;33m,\u001b[0m \u001b[0mx\u001b[0m \u001b[1;33m*\u001b[0m \u001b[0my\u001b[0m\u001b[1;33m)\u001b[0m\u001b[1;33m\u001b[0m\u001b[1;33m\u001b[0m\u001b[0m\n\u001b[0;32m      7\u001b[0m \u001b[0mprint\u001b[0m\u001b[1;33m(\u001b[0m\u001b[1;34m\"(outside foo) x:\"\u001b[0m\u001b[1;33m,\u001b[0m \u001b[0mx\u001b[0m\u001b[1;33m)\u001b[0m\u001b[1;33m\u001b[0m\u001b[1;33m\u001b[0m\u001b[0m\n\u001b[1;32m----> 8\u001b[1;33m \u001b[0mfoo\u001b[0m\u001b[1;33m(\u001b[0m\u001b[1;33m)\u001b[0m\u001b[1;33m\u001b[0m\u001b[1;33m\u001b[0m\u001b[0m\n\u001b[0m\u001b[0;32m      9\u001b[0m \u001b[0mprint\u001b[0m\u001b[1;33m(\u001b[0m\u001b[1;34m\"(after foo) x:\"\u001b[0m\u001b[1;33m,\u001b[0m \u001b[0mx\u001b[0m\u001b[1;33m)\u001b[0m\u001b[1;33m\u001b[0m\u001b[1;33m\u001b[0m\u001b[0m\n",
      "\u001b[1;32m<ipython-input-40-511039b9a307>\u001b[0m in \u001b[0;36mfoo\u001b[1;34m()\u001b[0m\n\u001b[0;32m      1\u001b[0m \u001b[0mx\u001b[0m \u001b[1;33m=\u001b[0m \u001b[1;36m10\u001b[0m\u001b[1;33m\u001b[0m\u001b[1;33m\u001b[0m\u001b[0m\n\u001b[0;32m      2\u001b[0m \u001b[1;32mdef\u001b[0m \u001b[0mfoo\u001b[0m\u001b[1;33m(\u001b[0m\u001b[1;33m)\u001b[0m\u001b[1;33m:\u001b[0m\u001b[1;33m\u001b[0m\u001b[1;33m\u001b[0m\u001b[0m\n\u001b[1;32m----> 3\u001b[1;33m     \u001b[0mprint\u001b[0m\u001b[1;33m(\u001b[0m\u001b[1;34m\"(inside foo) x:\"\u001b[0m\u001b[1;33m,\u001b[0m \u001b[0mx\u001b[0m\u001b[1;33m)\u001b[0m\u001b[1;33m\u001b[0m\u001b[1;33m\u001b[0m\u001b[0m\n\u001b[0m\u001b[0;32m      4\u001b[0m     \u001b[0mx\u001b[0m \u001b[1;33m=\u001b[0m \u001b[1;36m8\u001b[0m\u001b[1;33m\u001b[0m\u001b[1;33m\u001b[0m\u001b[0m\n\u001b[0;32m      5\u001b[0m     \u001b[0my\u001b[0m \u001b[1;33m=\u001b[0m \u001b[1;36m5\u001b[0m\u001b[1;33m\u001b[0m\u001b[1;33m\u001b[0m\u001b[0m\n",
      "\u001b[1;31mUnboundLocalError\u001b[0m: local variable 'x' referenced before assignment"
     ]
    }
   ],
   "source": [
    "x = 10\n",
    "def foo():\n",
    "    print(\"(inside foo) x:\", x)  \n",
    "    x = 8                        \n",
    "    y = 5\n",
    "    print('value:', x * y)\n",
    "print(\"(outside foo) x:\", x)\n",
    "foo()\n",
    "print(\"(after foo) x:\", x)"
   ]
  },
  {
   "cell_type": "markdown",
   "metadata": {},
   "source": [
    "Esse é um problema tão comum que as Perguntas frequentes do Python têm [uma seção](https://docs.python.org/3/faq/programming.html#why-am-i-getting-an-unboundlocalerror-when-the-variable-has-a-value) dedicado a este tipo de `UnboundLocalError`.\n",
    "\n",
    "*Note que as palavras-chave `global` e` nonlocal` podem ser usadas para designar uma variável fora do escopo atualmente ativo (função mais interna). Se estiver interessado, você pode ler mais sobre as regras de escopo na leitura opcional ou na [seção de FAQ apropriada](https://docs.python.org/3/faq/programming.html#what-are-the-rules-for-local-and-global-variables-in-python).*"
   ]
  },
  {
   "cell_type": "markdown",
   "metadata": {},
   "source": [
    "### Argumentos Padrão Mutáveis - Um Jogo Perigoso\n",
    "\n",
    "Os valores padrão de uma função são avaliados no ponto de definição da função no escopo de definição. Por exemplo:"
   ]
  },
  {
   "cell_type": "code",
   "execution_count": 41,
   "metadata": {},
   "outputs": [
    {
     "name": "stdout",
     "output_type": "stream",
     "text": [
      "25\n",
      "36\n",
      "25\n",
      "36\n"
     ]
    }
   ],
   "source": [
    "x = 5\n",
    "\n",
    "def square(num=x):\n",
    "    return num * num\n",
    "\n",
    "x = 6\n",
    "print(square())   # => 25, not 36\n",
    "print(square(x))  # => 36"
   ]
  },
  {
   "cell_type": "markdown",
   "metadata": {},
   "source": [
    "**Aviso: Os valores padrão de uma função são avaliados *apenas uma vez*, quando a definição da função é encontrada. Isso é importante quando o valor padrão é um objeto mutável, como uma lista ou dicionário**\n",
    "\n",
    "Preveja o que o código a seguir fará e execute-o para testar sua hipótese:\n",
    "\n",
    "```Python\n",
    "def append_twice(a, lst=[]):\n",
    "    lst.append(a)\n",
    "    lst.append(a)\n",
    "    return lst\n",
    "   \n",
    "# Works well when the keyword is provided\n",
    "print(append_twice(1, lst=[4]))  # => [4, 1, 1]\n",
    "print(append_twice(11, lst=[2, 3, 5, 7]))  # => [2, 3, 5, 7, 11, 11]\n",
    "\n",
    "# But what happens here?\n",
    "print(append_twice(1))\n",
    "print(append_twice(2))\n",
    "print(append_twice(3))\n",
    "```"
   ]
  },
  {
   "cell_type": "code",
   "execution_count": 42,
   "metadata": {},
   "outputs": [
    {
     "name": "stdout",
     "output_type": "stream",
     "text": [
      "[4, 1, 1]\n",
      "[2, 3, 5, 7, 11, 11]\n",
      "-------------------------\n",
      "[1, 1]\n",
      "[1, 1, 2, 2]\n",
      "[1, 1, 2, 2, 3, 3]\n",
      "[4, 1, 1]\n",
      "[2, 3, 5, 7, 11, 11]\n",
      "-------------------------\n",
      "[1, 1]\n",
      "[1, 1, 2, 2]\n",
      "[1, 1, 2, 2, 3, 3]\n"
     ]
    }
   ],
   "source": [
    "# Something fishy is going on here. Can you deduce what is happening?\n",
    "def append_twice(a, lst=[]):\n",
    "    lst.append(a)\n",
    "    lst.append(a)\n",
    "    return lst\n",
    "   \n",
    "# Works well when the keyword is provided\n",
    "print(append_twice(1, lst=[4]))  # => [4, 1, 1]\n",
    "print(append_twice(11, lst=[2, 3, 5, 7]))  # => [2, 3, 5, 7, 11, 11]\n",
    "print(\"-------------------------\")\n",
    "# But what happens here?\n",
    "print(append_twice(1))\n",
    "print(append_twice(2))\n",
    "print(append_twice(3))"
   ]
  },
  {
   "cell_type": "markdown",
   "metadata": {},
   "source": [
    "Depois de executar o código, você deverá ver o seguinte impresso na tela:\n",
    "\n",
    "```\n",
    "[1, 1]\n",
    "[1, 1, 2, 2]\n",
    "[1, 1, 2, 2, 3, 3]\n",
    "```\n",
    "\n",
    "Discuta com um parceiro por que isso está acontecendo.\n",
    "\n",
    "Se você não quiser que o valor padrão seja compartilhado entre as chamadas subsequentes, poderá usar um valor de sentinela como o valor padrão (para sinalizar que nenhum argumento de palavra-chave foi explicitamente fornecido pelo chamador). Em caso afirmativo, sua função pode ser algo como:\n",
    "\n",
    "```Python\n",
    "def append_twice(a, lst=None):\n",
    "    if lst is None:\n",
    "        lst = []\n",
    "    lst.append(a)\n",
    "    lst.append(a)\n",
    "    return lst\n",
    "```\n",
    "\n",
    "Discuta com um parceiro se acha que esta solução é melhor ou pior."
   ]
  },
  {
   "cell_type": "code",
   "execution_count": 43,
   "metadata": {},
   "outputs": [],
   "source": [
    "def append_twice(a, lst=None):\n",
    "    if lst is None:\n",
    "        lst = []\n",
    "    lst.append(a)\n",
    "    lst.append(a)\n",
    "    return lst"
   ]
  },
  {
   "cell_type": "markdown",
   "metadata": {},
   "source": [
    "# pelo que eu entendi é que os valores padrões sao verificados no ponto da função,\n",
    "# ou seja, o ideal é que seja fornecedido um nome, pois quando chamar a função e atualizar o o argumento muda o valor padrao\n",
    "# o ideal é avaliar cada caso"
   ]
  },
  {
   "cell_type": "markdown",
   "metadata": {},
   "source": [
    "Às vezes, no entanto, esse comportamento de inicialização de valor de palavra-chave pode ser desejável. Por exemplo, ele pode ser usado como um cache que é modificável e acessível por todas as invocações de uma função:\n",
    "\n",
    "```Python\n",
    "def fib(n, cache={0: 1, 1: 1}):\n",
    "    if n in cache:  # Note: default value captures our base cases\n",
    "        return cache[n]\n",
    "    out = fib(n-1) + fib(n-2)\n",
    "    cache[n] = out\n",
    "    return out\n",
    "```\n",
    "\n",
    "Tente executar as seguintes células de código."
   ]
  },
  {
   "cell_type": "code",
   "execution_count": 44,
   "metadata": {},
   "outputs": [
    {
     "name": "stdout",
     "output_type": "stream",
     "text": [
      "89\n",
      "{0: 1, 1: 1, 2: 2, 3: 3, 4: 5, 5: 8, 6: 13, 7: 21, 8: 34, 9: 55, 10: 89}\n",
      "89\n",
      "{0: 1, 1: 1, 2: 2, 3: 3, 4: 5, 5: 8, 6: 13, 7: 21, 8: 34, 9: 55, 10: 89}\n"
     ]
    }
   ],
   "source": [
    "def fib(n, cache={0: 1, 1: 1}):\n",
    "    if n in cache:  # Note: starting values in the dictionary captures our base cases.\n",
    "        return cache[n]\n",
    "    out = fib(n-1) + fib(n-2)\n",
    "    cache[n] = out\n",
    "    return out\n",
    "\n",
    "print(fib(10))  # => 89\n",
    "print(fib.__defaults__[0])  # Access the cached dictionary."
   ]
  },
  {
   "cell_type": "markdown",
   "metadata": {},
   "source": [
    "Legal certo? O cache segue a função ao redor, como um atributo no objeto da função, em vez de ser de responsabilidade do chamador! Mesmo assim, existem maneiras melhores e mais Pythonicas de capturar esse padrão de design de cache (veja [functools.lru_cache](https://docs.python.org/3/library/functools.html#functools.lru_cache)). No entanto, é um truque que pode ser útil!"
   ]
  },
  {
   "cell_type": "markdown",
   "metadata": {},
   "source": [
    "## Investigando Objetos de Função\n",
    "\n",
    "Durante a aula, mencionamos que as funções são objetos e que podem ter atributos interessantes para explorar. Vamos examinar mais detalhadamente vários desses atributos aqui.\n",
    "\n",
    "Geralmente, essa informação não é particularmente útil para os profissionais (você raramente vai querer se intrometer com as funções internas), mas apenas de ver o que você *pode* em Python é muito legal.\n",
    "\n",
    "Nesta seção, não há código para escrever. Em vez disso, você estará lendo e executando o código e observando a saída. No entanto, incentivamos você a brincar com as células do código para experimentar e explorar por conta própria."
   ]
  },
  {
   "cell_type": "markdown",
   "metadata": {},
   "source": [
    "#### Valores padrão (`__defaults__` and `__kwdefaults__`)\n",
    "\n",
    "Como afirmado anteriormente, quaisquer valores padrão (ou argumentos padrão normais ou os argumentos padrão somente de palavra-chave que seguem um parâmetro de argumento posicional variádico) são ligados ao objeto de função no momento da definição da função. Considere nossa função `all_together` de mais cedo e execute o seguinte código. Por que o atributo `__defaults__` pode ser uma tupla, mas o atributo` __kwdefaults__` é um dicionário?"
   ]
  },
  {
   "cell_type": "code",
   "execution_count": 45,
   "metadata": {},
   "outputs": [
    {
     "data": {
      "text/plain": [
       "{'indent': True, 'spaces': 4}"
      ]
     },
     "execution_count": 45,
     "metadata": {},
     "output_type": "execute_result"
    },
    {
     "data": {
      "text/plain": [
       "{'indent': True, 'spaces': 4}"
      ]
     },
     "execution_count": 45,
     "metadata": {},
     "output_type": "execute_result"
    }
   ],
   "source": [
    "def all_together(x, y, z=1, *nums, indent=True, spaces=4, **options): pass\n",
    "\n",
    "all_together.__defaults__  # => (1, )\n",
    "all_together.__kwdefaults__  # => {'indent':True, 'spaces':4}"
   ]
  },
  {
   "cell_type": "markdown",
   "metadata": {},
   "source": [
    "#### Documentação (`__doc__`)\n",
    "\n",
    "O primeiro literal de string em qualquer função, se vier antes de qualquer expressão, é ligado ao atributo `__doc__` da função."
   ]
  },
  {
   "cell_type": "code",
   "execution_count": 46,
   "metadata": {},
   "outputs": [
    {
     "name": "stdout",
     "output_type": "stream",
     "text": [
      "Summary line: do nothing, but document it.\n",
      "        \n",
      "    Description: No, really, it doesn't do anything.\n",
      "    \n",
      "Summary line: do nothing, but document it.\n",
      "        \n",
      "    Description: No, really, it doesn't do anything.\n",
      "    \n"
     ]
    }
   ],
   "source": [
    "def my_function():\n",
    "    \"\"\"Summary line: do nothing, but document it.\n",
    "        \n",
    "    Description: No, really, it doesn't do anything.\n",
    "    \"\"\"\n",
    "    pass\n",
    "\n",
    "print(my_function.__doc__)\n",
    "# Summary line: Do nothing, but document it.\n",
    "#\n",
    "#     Description: No, really, it doesn't do anything."
   ]
  },
  {
   "cell_type": "markdown",
   "metadata": {},
   "source": [
    "Conforme visto em aula, muitas ferramentas usam essa string de documentação com grande vantagem. Por exemplo, a função builtin 'help' exibe informações de docstrings e muitas ferramentas de geração de documentação da API como [Sphynx](http://www.sphinx-doc.org/en/stable/) ou [Epydoc](http://epydoc.sourceforge.net/) usa informações contidas na docstring para formar referências inteligentes e hiperlinks em sites de documentação.\n",
    "\n",
    "Além disso, o módulo da biblioteca padrão [doctest](https://docs.python.org/3/library/doctest.html), em suas próprias palavras, \"pesquisa na docstring por partes de texto que se parecem com código Python e em seguida, executa essas sessões para verificar se elas funcionam exatamente como mostrado.\" Legal!"
   ]
  },
  {
   "cell_type": "markdown",
   "metadata": {},
   "source": [
    "#### Code Object (`__code__`)\n",
    "\n",
    "No CPython, a implementação de referência do Python usada por muitas pessoas (incluindo nós), as funções são compiladas em bytes no código Python executável, ou _bytecode_, quando definidas. Este objeto de código, que representa o bytecode e algumas informações administrativas, está vinculado ao atributo `__code__` e tem uma tonelada de propriedades interessantes, melhor ilustradas pelo exemplo. Objetos de código são imutáveis e não contêm referências a objetos imutáveis.\n",
    "\n",
    "```Python\n",
    "def all_together(x, y, z=1, *nums, indent=True, spaces=4, **options):\n",
    "    \"\"\"A useless comment\"\"\"\n",
    "    print(x + y * z)\n",
    "    print(sum(nums))\n",
    "    for k, v in options.items():\n",
    "        if indent:\n",
    "            print(\"{}\\t{}\".format(k, v))\n",
    "        else:\n",
    "            print(\"{}{}{}\".format(k, \" \" * spaces, v))\n",
    "            \n",
    "code = all_together.__code__\n",
    "```\n",
    "\n",
    "| Attribute  | Sample Value | Explanation |\n",
    "| --- | --- | --- |\n",
    "| `code.co_argcount` | `3` | number of positional arguments (including arguments with default values) |\n",
    "| `code.co_cellvars` | `()` | tuple containing the names of local variables that are referenced by nested functions |\n",
    "| `code.co_code` | `b't\\x00\\x00...\\x04S\\x00'` | string representing the sequence of bytecode instructions |\n",
    "| `code.co_consts` | `('A useless comment', '{}\\t{}', '{}{}{}', ' ', None)` | tuple containing the literals used by the bytecode - our `None` is from the implicit `return None` at the end |\n",
    "| `code.co_filename` | `filename` or `<stdin>` or `<ipython-input-#-xxx>` | file in which the function was defined |\n",
    "| `code.co_firstlineno` | `1` | line of the file the first line of the function appears |\n",
    "| `code.co_flags` | `79` | AND of compiler-specific binary flags whose internal meaning is (mostly) opaque to us |\n",
    "| `code.co_freevars` | `()` | tuple containing the names of free variables |\n",
    "| `code.co_kwonlyargcount` | `2` | number of keyword-only arguments |\n",
    "| `code.co_lnotab` | `b'\\x00\\x02\\x10\\x01\\x0c\\x01\\x12\\x01\\x04\\x01\\x12\\x02'` | string encoding the mapping from bytecode offsets to line numbers |\n",
    "| `code.co_name` | `\"all_together\"` | the function name  |\n",
    "| `code.co_names` | `('print', 'sum', 'items', 'format')` | tuple containing the names used by the bytecode |\n",
    "| `code.co_nlocals` | `9` | number of local variables used by the function (including arguments) |\n",
    "| `code.co_stacksize` | `7` | required stack size (including local variables) |\n",
    "| `code.co_varnames` | `('x', 'y', 'z', 'indent', 'spaces', 'nums', 'options', 'k', 'v')` | tuple containing the names of the local variables (starting with the argument names) |\n",
    "\n",
    "Mais informações sobre isso e sobre todos os tipos em Python podem ser encontradas em [referência do modelo de dados](https://docs.python.org/3/reference/datamodel.html#the-standard-type-hierarchy). Para objetos de código, você precisa rolar para \"Tipos internos\"."
   ]
  },
  {
   "cell_type": "code",
   "execution_count": 47,
   "metadata": {},
   "outputs": [
    {
     "name": "stdout",
     "output_type": "stream",
     "text": [
      "3\n",
      "()\n",
      "b't\\x00|\\x00|\\x01|\\x02\\x14\\x00\\x17\\x00\\x83\\x01\\x01\\x00t\\x00t\\x01|\\x05\\x83\\x01\\x83\\x01\\x01\\x00x@|\\x06\\xa0\\x02\\xa1\\x00D\\x00]4\\\\\\x02}\\x07}\\x08|\\x03rDt\\x00d\\x01\\xa0\\x03|\\x07|\\x08\\xa1\\x02\\x83\\x01\\x01\\x00q&t\\x00d\\x02\\xa0\\x03|\\x07d\\x03|\\x04\\x14\\x00|\\x08\\xa1\\x03\\x83\\x01\\x01\\x00q&W\\x00d\\x04S\\x00'\n",
      "('A useless comment', '{}\\t{}', '{}{}{}', ' ', None)\n",
      "<ipython-input-47-e323585adf3a>\n",
      "1\n",
      "79\n",
      "()\n",
      "2\n",
      "b'\\x00\\x02\\x10\\x01\\x0c\\x01\\x12\\x01\\x04\\x01\\x12\\x02'\n",
      "all_together\n",
      "('print', 'sum', 'items', 'format')\n",
      "9\n",
      "7\n",
      "('x', 'y', 'z', 'indent', 'spaces', 'nums', 'options', 'k', 'v')\n",
      "3\n",
      "()\n",
      "b't\\x00|\\x00|\\x01|\\x02\\x14\\x00\\x17\\x00\\x83\\x01\\x01\\x00t\\x00t\\x01|\\x05\\x83\\x01\\x83\\x01\\x01\\x00x@|\\x06\\xa0\\x02\\xa1\\x00D\\x00]4\\\\\\x02}\\x07}\\x08|\\x03rDt\\x00d\\x01\\xa0\\x03|\\x07|\\x08\\xa1\\x02\\x83\\x01\\x01\\x00q&t\\x00d\\x02\\xa0\\x03|\\x07d\\x03|\\x04\\x14\\x00|\\x08\\xa1\\x03\\x83\\x01\\x01\\x00q&W\\x00d\\x04S\\x00'\n",
      "('A useless comment', '{}\\t{}', '{}{}{}', ' ', None)\n",
      "<ipython-input-47-e323585adf3a>\n",
      "1\n",
      "79\n",
      "()\n",
      "2\n",
      "b'\\x00\\x02\\x10\\x01\\x0c\\x01\\x12\\x01\\x04\\x01\\x12\\x02'\n",
      "all_together\n",
      "('print', 'sum', 'items', 'format')\n",
      "9\n",
      "7\n",
      "('x', 'y', 'z', 'indent', 'spaces', 'nums', 'options', 'k', 'v')\n"
     ]
    }
   ],
   "source": [
    "def all_together(x, y, z=1, *nums, indent=True, spaces=4, **options):\n",
    "    \"\"\"A useless comment\"\"\"\n",
    "    print(x + y * z)\n",
    "    print(sum(nums))\n",
    "    for k, v in options.items():\n",
    "        if indent:\n",
    "            print(\"{}\\t{}\".format(k, v))\n",
    "        else:\n",
    "            print(\"{}{}{}\".format(k, \" \" * spaces, v))\n",
    "            \n",
    "code = all_together.__code__\n",
    "\n",
    "print(code.co_argcount)\n",
    "print(code.co_cellvars)\n",
    "print(code.co_code)\n",
    "print(code.co_consts)\n",
    "print(code.co_filename)\n",
    "print(code.co_firstlineno)\n",
    "print(code.co_flags)\n",
    "print(code.co_freevars)\n",
    "print(code.co_kwonlyargcount)\n",
    "print(code.co_lnotab)\n",
    "print(code.co_name)\n",
    "print(code.co_names)\n",
    "print(code.co_nlocals)\n",
    "print(code.co_stacksize)\n",
    "print(code.co_varnames)"
   ]
  },
  {
   "cell_type": "markdown",
   "metadata": {},
   "source": [
    "##### Segurança\n",
    "\n",
    "Como mencionamos brevemente na aula, isso pode levar a uma vulnerabilidade de segurança bastante gritante. Ou seja, o objeto de código em uma determinada função pode ser hot-swapped para o objeto de código de outro (talvez função maliciosa) em tempo de execução!"
   ]
  },
  {
   "cell_type": "code",
   "execution_count": 48,
   "metadata": {},
   "outputs": [
    {
     "name": "stdout",
     "output_type": "stream",
     "text": [
      "You're... not awesome. OOOOH\n",
      "None\n",
      "You're... not awesome. OOOOH\n",
      "None\n"
     ]
    }
   ],
   "source": [
    "def nice(): print(\"You're awesome!\")\n",
    "def mean(): print(\"You're... not awesome. OOOOH\")\n",
    "\n",
    "# Overwrite the code object for nice\n",
    "nice.__code__ = mean.__code__\n",
    "\n",
    "print(nice())  # prints \"You're... not awesome. OOOOH\""
   ]
  },
  {
   "cell_type": "markdown",
   "metadata": {},
   "source": [
    "##### Módulo `dis`\n",
    "\n",
    "O módulo `dis`, para \"desmontar\" (disassemble), exporta uma função` dis` que nos permite desmontar o código de byte do Python (pelo menos, para distribuições Python implementadas no CPython para versões existentes). O código desmontado não é exatamente o código de montagem normal, mas é uma sintaxe especializada do Python.\n",
    "\n",
    "```Python\n",
    "def gcd(a, b):\n",
    "    while b:\n",
    "        a, b = b, a % b\n",
    "    return a\n",
    "    \n",
    "import dis\n",
    "dis.dis(gcd)\n",
    "\"\"\"\n",
    "  2           0 SETUP_LOOP              27 (to 30)\n",
    "        >>    3 LOAD_FAST                1 (b)\n",
    "              6 POP_JUMP_IF_FALSE       29\n",
    "\n",
    "  3           9 LOAD_FAST                1 (b)\n",
    "             12 LOAD_FAST                0 (a)\n",
    "             15 LOAD_FAST                1 (b)\n",
    "             18 BINARY_MODULO\n",
    "             19 ROT_TWO\n",
    "             20 STORE_FAST               0 (a)\n",
    "             23 STORE_FAST               1 (b)\n",
    "             26 JUMP_ABSOLUTE            3\n",
    "        >>   29 POP_BLOCK\n",
    "\n",
    "  4     >>   30 LOAD_FAST                0 (a)\n",
    "             33 RETURN_VALUE\n",
    "\"\"\"\n",
    "```\n",
    "\n",
    "Detalhes sobre as instruções podem ser encontrados [aqui](https://docs.python.org/3/library/dis.html#python-bytecode-instructions).\n",
    "Você pode ler mais sobre o módulo `dis` [aqui](https://docs.python.org/3/library/dis.html)."
   ]
  },
  {
   "cell_type": "code",
   "execution_count": 49,
   "metadata": {},
   "outputs": [
    {
     "name": "stdout",
     "output_type": "stream",
     "text": [
      "  2           0 SETUP_LOOP              22 (to 24)\n",
      "        >>    2 LOAD_FAST                1 (b)\n",
      "              4 POP_JUMP_IF_FALSE       22\n",
      "\n",
      "  3           6 LOAD_FAST                1 (b)\n",
      "              8 LOAD_FAST                0 (a)\n",
      "             10 LOAD_FAST                1 (b)\n",
      "             12 BINARY_MODULO\n",
      "             14 ROT_TWO\n",
      "             16 STORE_FAST               0 (a)\n",
      "             18 STORE_FAST               1 (b)\n",
      "             20 JUMP_ABSOLUTE            2\n",
      "        >>   22 POP_BLOCK\n",
      "\n",
      "  4     >>   24 LOAD_FAST                0 (a)\n",
      "             26 RETURN_VALUE\n",
      "  2           0 SETUP_LOOP              22 (to 24)\n",
      "        >>    2 LOAD_FAST                1 (b)\n",
      "              4 POP_JUMP_IF_FALSE       22\n",
      "\n",
      "  3           6 LOAD_FAST                1 (b)\n",
      "              8 LOAD_FAST                0 (a)\n",
      "             10 LOAD_FAST                1 (b)\n",
      "             12 BINARY_MODULO\n",
      "             14 ROT_TWO\n",
      "             16 STORE_FAST               0 (a)\n",
      "             18 STORE_FAST               1 (b)\n",
      "             20 JUMP_ABSOLUTE            2\n",
      "        >>   22 POP_BLOCK\n",
      "\n",
      "  4     >>   24 LOAD_FAST                0 (a)\n",
      "             26 RETURN_VALUE\n"
     ]
    }
   ],
   "source": [
    "def gcd(a, b):\n",
    "    while b:\n",
    "        a, b = b, a % b\n",
    "    return a\n",
    "    \n",
    "import dis\n",
    "dis.dis(gcd)"
   ]
  },
  {
   "cell_type": "markdown",
   "metadata": {},
   "source": [
    "#### Anotações de Parâmetros (`__annotations__`)\n",
    "\n",
    "O Python nos permite adicionar anotações de tipo em argumentos de funções e retorno de valores. Isso leva a um mundo de possibilidades complexas e ainda é bastante controverso no ecossistema Python. No entanto, ele pode ser usado para comunicar às expectativas de seus clientes os tipos de argumentos.\n",
    "\n",
    "É importante ressaltar que o Python na verdade não faz nada com essas anotações e não verificará se os argumentos fornecidos estão de acordo com a dica de tipo especificada. Esse recurso de linguagem só é disponibilizado por meio da coleção de anotações de função."
   ]
  },
  {
   "cell_type": "code",
   "execution_count": 50,
   "metadata": {},
   "outputs": [
    {
     "name": "stdout",
     "output_type": "stream",
     "text": [
      "{'a': <class 'int'>, 'b': <class 'str'>, 'return': <class 'list'>}\n",
      "{'a': <class 'int'>, 'b': <class 'str'>, 'return': <class 'list'>}\n"
     ]
    }
   ],
   "source": [
    "def annotated(a: int, b: str) -> list:\n",
    "    return [a, b]\n",
    "\n",
    "print(annotated.__annotations__)\n",
    "# => {'b': <class 'str'>, 'a': <class 'int'>, 'return': <class 'list'>}"
   ]
  },
  {
   "cell_type": "markdown",
   "metadata": {},
   "source": [
    "Esta informação pode ser usada para construir alguns verificadores de tipos em tempo de execução para o Python!\n",
    "\n",
    "Para mais informações, confira [PEP 3107](https://www.python.org/dev/peps/pep-3107/) em anotações de função ou [PEP 484](https://www.python.org/dev/peps/pep-0484/) na sugestão de tipos (que foi introduzida no Python 3.5)"
   ]
  },
  {
   "cell_type": "markdown",
   "metadata": {},
   "source": [
    "#### Call (`__call__`)\n",
    "\n",
    "Todas as funções do Python têm um atributo `__call__`, que é o objeto real chamado quando você usa parênteses para\" chamar \"uma função. Isso é,"
   ]
  },
  {
   "cell_type": "code",
   "execution_count": 51,
   "metadata": {},
   "outputs": [
    {
     "name": "stdout",
     "output_type": "stream",
     "text": [
      "Hello world!\n",
      "Hello world!\n",
      "Hello world!\n",
      "Hello world!\n"
     ]
    }
   ],
   "source": [
    "def greet(): print(\"Hello world!\")\n",
    "\n",
    "greet() # \"Hello world!\"\n",
    "# is just syntactic sugar for\n",
    "greet.__call__()  # \"Hello world!\""
   ]
  },
  {
   "cell_type": "markdown",
   "metadata": {},
   "source": [
    "Isso significa que qualquer objeto (incluindo instâncias de classes personalizadas) com um método `__call__` pode usar a sintaxe de chamada de função entre parênteses! Por exemplo, podemos construir uma classe 'Polynomial' que pode ser chamada. Ainda não falamos sobre a sintaxe de classes, então fique à vontade para pular este exemplo.\n",
    "\n",
    "```Python\n",
    "class Polynomial:\n",
    "    def __init__(self, coeffs):\n",
    "        \"\"\"Store the coefficients...\"\"\"\n",
    "        \n",
    "    def __call__(self, x):\n",
    "        \"\"\"Compute f(x)...\"\"\"\n",
    "\n",
    "\n",
    "# The polynomial f(x) = 4 + 4 * x + 4 * x ** 2\n",
    "f = Polynomial(4, 4, 1)\n",
    "f(5)  # Really, this is f.__call__(5)\n",
    "```\n",
    "\n",
    "Veremos muito mais sobre o uso desses chamados \"métodos mágicos\" para explorar os operadores aparentes do Python (como a chamada de função, `+` (`__add__`) ou` * `(` __mul__`), etc) na próxima semana."
   ]
  },
  {
   "cell_type": "markdown",
   "metadata": {},
   "source": [
    "#### Informações de Nome (`__module__`, `__name__`, and `__qualname__`)\n",
    "\n",
    "As funções do Python também armazenam algumas informações de nome sobre uma função, geralmente para fins de impressão amigável.\n",
    "\n",
    "`__module__` refere-se ao módulo que estava ativo no momento em que a função foi definida. Quaisquer funções definidas no interpretador interativo, ou executadas como um script, terão `__module__ == '__main __'`, mas os módulos importados terão seu atributo `__module__` configurado para o nome do módulo. Por exemplo, `math.sqrt.__ module__` é` \"math\" `.\n",
    "\n",
    "\n",
    "`__name__` é o nome da função. Nada de especial aqui.\n",
    "\n",
    "\n",
    "`__qualname__`, que significa \"nome qualificado\", só difere de`__name__` quando você está lidando com funções aninhadas."
   ]
  },
  {
   "cell_type": "markdown",
   "metadata": {},
   "source": [
    "#### Closure (`__closure__`)\n",
    "\n",
    "Se você estiver familiarizado com closures (fechamentos) em outras linguagens, closures em Python funcionarão quase da mesma maneira. Closures realmente só surgem quando lidamos com funções aninhadas, veremos mais na aula de Programação Funcional. Esse texto é apenas para dar a você uma prévia do que está por vir - sim, o Python tem Closures!"
   ]
  },
  {
   "cell_type": "markdown",
   "metadata": {},
   "source": [
    "#### Módulo `inspect`\n",
    "\n",
    "Como uma breve nota, tudo isso com as funções internas do Python não pode ser bom para a nossa saúde. Felizmente, há um módulo de biblioteca padrão para isso! O módulo `inspect` nos oferece muitas ferramentas interessantes para interagir não apenas com as funções internas, mas também com as partes internas de muitos outros tipos. Confira [a documentação](https://docs.python.org/3/library/inspect.html) para alguns bons exemplos."
   ]
  },
  {
   "cell_type": "code",
   "execution_count": 52,
   "metadata": {},
   "outputs": [
    {
     "name": "stdout",
     "output_type": "stream",
     "text": [
      "FullArgSpec(args=['x', 'y', 'z'], varargs='nums', varkw='options', defaults=(1,), kwonlyargs=['indent', 'spaces'], kwonlydefaults={'indent': True, 'spaces': 4}, annotations={})\n",
      "FullArgSpec(args=['x', 'y', 'z'], varargs='nums', varkw='options', defaults=(1,), kwonlyargs=['indent', 'spaces'], kwonlydefaults={'indent': True, 'spaces': 4}, annotations={})\n"
     ]
    }
   ],
   "source": [
    "import inspect\n",
    "\n",
    "def all_together(x, y, z=1, *nums, indent=True, spaces=4, **options): pass\n",
    "\n",
    "print(inspect.getfullargspec(all_together))"
   ]
  },
  {
   "cell_type": "markdown",
   "metadata": {},
   "source": [
    "## Terminou cedo?\n",
    "\n",
    "Examine o [PEP 8](https://www.python.org/dev/peps/pep-0008/), o guia de estilo oficial do Python, bem como o [PEP 257](https://www.python.org/dev/peps/pep-0257/), sugestões do Python para convenções docstring, se você não teve a chance de lê-las na semana passada."
   ]
  },
  {
   "cell_type": "markdown",
   "metadata": {},
   "source": [
    "## Créditos\n",
    "\n",
    "**Maior crédito ao PSF para documentação incrivelmente clara/legível, tornando tudo isso possível, assim como os recursos vinculados. **"
   ]
  },
  {
   "cell_type": "markdown",
   "metadata": {},
   "source": [
    "> With <3 by @sredmond"
   ]
  },
  {
   "cell_type": "code",
   "execution_count": null,
   "metadata": {},
   "outputs": [],
   "source": []
  },
  {
   "cell_type": "code",
   "execution_count": null,
   "metadata": {},
   "outputs": [],
   "source": []
  }
 ],
 "metadata": {
  "kernelspec": {
   "display_name": "Python 3",
   "language": "python",
   "name": "python3"
  },
  "language_info": {
   "codemirror_mode": {
    "name": "ipython",
    "version": 3
   },
   "file_extension": ".py",
   "mimetype": "text/x-python",
   "name": "python",
   "nbconvert_exporter": "python",
   "pygments_lexer": "ipython3",
   "version": "3.7.1"
  }
 },
 "nbformat": 4,
 "nbformat_minor": 2
}
